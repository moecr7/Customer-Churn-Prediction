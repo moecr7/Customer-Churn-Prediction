{
 "cells": [
  {
   "cell_type": "code",
   "execution_count": null,
   "id": "b14b9c4d",
   "metadata": {},
   "outputs": [],
   "source": [
    "# Load saved train/test datasets from CSV files\n",
    "import pandas as pd\n",
    "\n",
    "X_train = pd.read_csv(\"X_train.csv\")  # Features train set\n",
    "X_test = pd.read_csv(\"X_test.csv\")    # Features test set\n",
    "\n",
    "# Load target variables and convert from DataFrame to Series with .squeeze()\n",
    "y_train = pd.read_csv(\"y_train.csv\").squeeze()  # Target train set\n",
    "y_test = pd.read_csv(\"y_test.csv\").squeeze()    # Target test set\n"
   ]
  },
  {
   "cell_type": "code",
   "execution_count": null,
   "id": "3d90179f",
   "metadata": {},
   "outputs": [
    {
     "name": "stderr",
     "output_type": "stream",
     "text": [
      "[I 2025-06-06 13:12:16,305] A new study created in memory with name: no-name-f0cb7173-1ae4-4203-83f7-ad60e3f2196d\n"
     ]
    },
    {
     "name": "stderr",
     "output_type": "stream",
     "text": [
      "[I 2025-06-06 13:12:24,310] Trial 0 finished with value: 0.7723035952063915 and parameters: {'rf_n_estimators': 56, 'rf_max_depth': 4, 'xgb_n_estimators': 107, 'xgb_max_depth': 3, 'lgb_n_estimators': 82, 'lgb_max_depth': 14, 'lgb_learning_rate': 0.026444618527784403, 'lr_C': 0.05819607919312124}. Best is trial 0 with value: 0.7723035952063915.\n",
      "[I 2025-06-06 13:12:30,157] Trial 1 finished with value: 0.7630522088353414 and parameters: {'rf_n_estimators': 60, 'rf_max_depth': 18, 'xgb_n_estimators': 117, 'xgb_max_depth': 4, 'lgb_n_estimators': 70, 'lgb_max_depth': 13, 'lgb_learning_rate': 0.06658543054140154, 'lr_C': 0.02520592270292888}. Best is trial 0 with value: 0.7723035952063915.\n",
      "[I 2025-06-06 13:12:31,494] Trial 2 finished with value: 0.7710843373493976 and parameters: {'rf_n_estimators': 132, 'rf_max_depth': 19, 'xgb_n_estimators': 174, 'xgb_max_depth': 3, 'lgb_n_estimators': 191, 'lgb_max_depth': 19, 'lgb_learning_rate': 0.01738814216670061, 'lr_C': 0.018323007058340945}. Best is trial 0 with value: 0.7723035952063915.\n",
      "[I 2025-06-06 13:12:33,054] Trial 3 finished with value: 0.7598371777476255 and parameters: {'rf_n_estimators': 168, 'rf_max_depth': 16, 'xgb_n_estimators': 86, 'xgb_max_depth': 8, 'lgb_n_estimators': 55, 'lgb_max_depth': 20, 'lgb_learning_rate': 0.16578241827768908, 'lr_C': 2.0840547257791004}. Best is trial 0 with value: 0.7723035952063915.\n",
      "[I 2025-06-06 13:12:36,983] Trial 4 finished with value: 0.7655629139072848 and parameters: {'rf_n_estimators': 68, 'rf_max_depth': 3, 'xgb_n_estimators': 160, 'xgb_max_depth': 6, 'lgb_n_estimators': 80, 'lgb_max_depth': 11, 'lgb_learning_rate': 0.0312120324327781, 'lr_C': 7.301697592591476}. Best is trial 0 with value: 0.7723035952063915.\n",
      "[I 2025-06-06 13:12:40,393] Trial 5 finished with value: 0.7757255936675461 and parameters: {'rf_n_estimators': 195, 'rf_max_depth': 5, 'xgb_n_estimators': 138, 'xgb_max_depth': 5, 'lgb_n_estimators': 75, 'lgb_max_depth': 10, 'lgb_learning_rate': 0.048359886441505455, 'lr_C': 0.3732034419973372}. Best is trial 5 with value: 0.7757255936675461.\n",
      "[I 2025-06-06 13:12:41,320] Trial 6 finished with value: 0.7620320855614974 and parameters: {'rf_n_estimators': 92, 'rf_max_depth': 20, 'xgb_n_estimators': 97, 'xgb_max_depth': 3, 'lgb_n_estimators': 74, 'lgb_max_depth': 16, 'lgb_learning_rate': 0.17428428342229552, 'lr_C': 0.0013860213473136404}. Best is trial 5 with value: 0.7757255936675461.\n",
      "[I 2025-06-06 13:12:42,507] Trial 7 finished with value: 0.7560321715817694 and parameters: {'rf_n_estimators': 96, 'rf_max_depth': 16, 'xgb_n_estimators': 129, 'xgb_max_depth': 9, 'lgb_n_estimators': 184, 'lgb_max_depth': 8, 'lgb_learning_rate': 0.029180896168960184, 'lr_C': 0.09875739787500244}. Best is trial 5 with value: 0.7757255936675461.\n",
      "[I 2025-06-06 13:12:44,785] Trial 8 finished with value: 0.7737617135207496 and parameters: {'rf_n_estimators': 89, 'rf_max_depth': 16, 'xgb_n_estimators': 166, 'xgb_max_depth': 6, 'lgb_n_estimators': 52, 'lgb_max_depth': 5, 'lgb_learning_rate': 0.17329494986636343, 'lr_C': 0.32224136307521706}. Best is trial 5 with value: 0.7757255936675461.\n",
      "[I 2025-06-06 13:12:48,505] Trial 9 finished with value: 0.768 and parameters: {'rf_n_estimators': 197, 'rf_max_depth': 8, 'xgb_n_estimators': 59, 'xgb_max_depth': 7, 'lgb_n_estimators': 185, 'lgb_max_depth': 20, 'lgb_learning_rate': 0.21210372576496855, 'lr_C': 0.02874882142553585}. Best is trial 5 with value: 0.7757255936675461.\n",
      "[I 2025-06-06 13:12:50,674] Trial 10 finished with value: 0.7690253671562083 and parameters: {'rf_n_estimators': 153, 'rf_max_depth': 10, 'xgb_n_estimators': 195, 'xgb_max_depth': 5, 'lgb_n_estimators': 117, 'lgb_max_depth': 3, 'lgb_learning_rate': 0.07164246796468901, 'lr_C': 0.6910149535133561}. Best is trial 5 with value: 0.7757255936675461.\n",
      "[I 2025-06-06 13:12:51,657] Trial 11 finished with value: 0.7608695652173914 and parameters: {'rf_n_estimators': 107, 'rf_max_depth': 14, 'xgb_n_estimators': 150, 'xgb_max_depth': 6, 'lgb_n_estimators': 110, 'lgb_max_depth': 5, 'lgb_learning_rate': 0.11103691674320856, 'lr_C': 0.4976540715713638}. Best is trial 5 with value: 0.7757255936675461.\n",
      "[I 2025-06-06 13:12:52,881] Trial 12 finished with value: 0.7730870712401056 and parameters: {'rf_n_estimators': 195, 'rf_max_depth': 7, 'xgb_n_estimators': 138, 'xgb_max_depth': 5, 'lgb_n_estimators': 50, 'lgb_max_depth': 8, 'lgb_learning_rate': 0.010767177540919345, 'lr_C': 0.5668303761386236}. Best is trial 5 with value: 0.7757255936675461.\n",
      "[I 2025-06-06 13:12:54,154] Trial 13 finished with value: 0.7503373819163293 and parameters: {'rf_n_estimators': 128, 'rf_max_depth': 13, 'xgb_n_estimators': 180, 'xgb_max_depth': 10, 'lgb_n_estimators': 151, 'lgb_max_depth': 8, 'lgb_learning_rate': 0.2854618446976959, 'lr_C': 0.2232306456148757}. Best is trial 5 with value: 0.7757255936675461.\n",
      "[I 2025-06-06 13:12:55,442] Trial 14 finished with value: 0.7601078167115903 and parameters: {'rf_n_estimators': 164, 'rf_max_depth': 11, 'xgb_n_estimators': 157, 'xgb_max_depth': 7, 'lgb_n_estimators': 99, 'lgb_max_depth': 5, 'lgb_learning_rate': 0.04921950149306491, 'lr_C': 2.551915437831913}. Best is trial 5 with value: 0.7757255936675461.\n",
      "[I 2025-06-06 13:12:56,119] Trial 15 finished with value: 0.7730870712401056 and parameters: {'rf_n_estimators': 81, 'rf_max_depth': 6, 'xgb_n_estimators': 195, 'xgb_max_depth': 5, 'lgb_n_estimators': 139, 'lgb_max_depth': 10, 'lgb_learning_rate': 0.09659457930730099, 'lr_C': 0.0045749641421178565}. Best is trial 5 with value: 0.7757255936675461.\n",
      "[I 2025-06-06 13:12:57,061] Trial 16 finished with value: 0.7710843373493976 and parameters: {'rf_n_estimators': 112, 'rf_max_depth': 15, 'xgb_n_estimators': 136, 'xgb_max_depth': 8, 'lgb_n_estimators': 96, 'lgb_max_depth': 3, 'lgb_learning_rate': 0.04388522250876505, 'lr_C': 0.1722599277796529}. Best is trial 5 with value: 0.7757255936675461.\n",
      "[I 2025-06-06 13:12:58,018] Trial 17 finished with value: 0.7694369973190348 and parameters: {'rf_n_estimators': 139, 'rf_max_depth': 9, 'xgb_n_estimators': 174, 'xgb_max_depth': 4, 'lgb_n_estimators': 60, 'lgb_max_depth': 6, 'lgb_learning_rate': 0.11292701243116895, 'lr_C': 1.7302390438968764}. Best is trial 5 with value: 0.7757255936675461.\n",
      "[I 2025-06-06 13:12:58,823] Trial 18 finished with value: 0.7669376693766937 and parameters: {'rf_n_estimators': 83, 'rf_max_depth': 12, 'xgb_n_estimators': 79, 'xgb_max_depth': 6, 'lgb_n_estimators': 95, 'lgb_max_depth': 16, 'lgb_learning_rate': 0.04086922308332412, 'lr_C': 9.847679107678882}. Best is trial 5 with value: 0.7757255936675461.\n",
      "[I 2025-06-06 13:13:00,001] Trial 19 finished with value: 0.7675962815405046 and parameters: {'rf_n_estimators': 180, 'rf_max_depth': 5, 'xgb_n_estimators': 150, 'xgb_max_depth': 4, 'lgb_n_estimators': 133, 'lgb_max_depth': 10, 'lgb_learning_rate': 0.01785718696761787, 'lr_C': 0.23948112129283475}. Best is trial 5 with value: 0.7757255936675461.\n",
      "[I 2025-06-06 13:13:01,036] Trial 20 finished with value: 0.7560321715817694 and parameters: {'rf_n_estimators': 114, 'rf_max_depth': 17, 'xgb_n_estimators': 118, 'xgb_max_depth': 8, 'lgb_n_estimators': 154, 'lgb_max_depth': 7, 'lgb_learning_rate': 0.08005391869558928, 'lr_C': 0.007853433140397395}. Best is trial 5 with value: 0.7757255936675461.\n",
      "[I 2025-06-06 13:13:02,263] Trial 21 finished with value: 0.7747035573122529 and parameters: {'rf_n_estimators': 195, 'rf_max_depth': 7, 'xgb_n_estimators': 142, 'xgb_max_depth': 5, 'lgb_n_estimators': 51, 'lgb_max_depth': 9, 'lgb_learning_rate': 0.010144806311380178, 'lr_C': 0.729792173128433}. Best is trial 5 with value: 0.7757255936675461.\n",
      "[I 2025-06-06 13:13:03,385] Trial 22 finished with value: 0.7728459530026109 and parameters: {'rf_n_estimators': 181, 'rf_max_depth': 6, 'xgb_n_estimators': 142, 'xgb_max_depth': 5, 'lgb_n_estimators': 65, 'lgb_max_depth': 12, 'lgb_learning_rate': 0.011588812018458813, 'lr_C': 0.985946248816684}. Best is trial 5 with value: 0.7757255936675461.\n",
      "[I 2025-06-06 13:13:04,464] Trial 23 finished with value: 0.7653333333333333 and parameters: {'rf_n_estimators': 149, 'rf_max_depth': 8, 'xgb_n_estimators': 166, 'xgb_max_depth': 6, 'lgb_n_estimators': 50, 'lgb_max_depth': 10, 'lgb_learning_rate': 0.017877037658693237, 'lr_C': 0.08442382789852886}. Best is trial 5 with value: 0.7757255936675461.\n",
      "[I 2025-06-06 13:13:05,470] Trial 24 finished with value: 0.7661822985468957 and parameters: {'rf_n_estimators': 183, 'rf_max_depth': 3, 'xgb_n_estimators': 125, 'xgb_max_depth': 7, 'lgb_n_estimators': 85, 'lgb_max_depth': 9, 'lgb_learning_rate': 0.2755964142600156, 'lr_C': 0.27077857088110663}. Best is trial 5 with value: 0.7757255936675461.\n",
      "[I 2025-06-06 13:13:06,625] Trial 25 finished with value: 0.7732634338138925 and parameters: {'rf_n_estimators': 199, 'rf_max_depth': 5, 'xgb_n_estimators': 183, 'xgb_max_depth': 4, 'lgb_n_estimators': 65, 'lgb_max_depth': 6, 'lgb_learning_rate': 0.14704804438366004, 'lr_C': 1.2199769182881766}. Best is trial 5 with value: 0.7757255936675461.\n",
      "[I 2025-06-06 13:13:07,867] Trial 26 finished with value: 0.7610146862483311 and parameters: {'rf_n_estimators': 163, 'rf_max_depth': 12, 'xgb_n_estimators': 146, 'xgb_max_depth': 5, 'lgb_n_estimators': 64, 'lgb_max_depth': 4, 'lgb_learning_rate': 0.01473090739143362, 'lr_C': 4.145843851521319}. Best is trial 5 with value: 0.7757255936675461.\n",
      "[I 2025-06-06 13:13:09,173] Trial 27 finished with value: 0.771505376344086 and parameters: {'rf_n_estimators': 188, 'rf_max_depth': 10, 'xgb_n_estimators': 164, 'xgb_max_depth': 6, 'lgb_n_estimators': 87, 'lgb_max_depth': 14, 'lgb_learning_rate': 0.025205581594599027, 'lr_C': 0.40006560881690467}. Best is trial 5 with value: 0.7757255936675461.\n",
      "[I 2025-06-06 13:13:10,323] Trial 28 finished with value: 0.7771883289124668 and parameters: {'rf_n_estimators': 170, 'rf_max_depth': 7, 'xgb_n_estimators': 130, 'xgb_max_depth': 5, 'lgb_n_estimators': 108, 'lgb_max_depth': 12, 'lgb_learning_rate': 0.05582511670322425, 'lr_C': 0.055269590001462116}. Best is trial 28 with value: 0.7771883289124668.\n",
      "[I 2025-06-06 13:13:11,415] Trial 29 finished with value: 0.7754010695187166 and parameters: {'rf_n_estimators': 174, 'rf_max_depth': 4, 'xgb_n_estimators': 103, 'xgb_max_depth': 3, 'lgb_n_estimators': 108, 'lgb_max_depth': 14, 'lgb_learning_rate': 0.05662742799378793, 'lr_C': 0.044858320404597106}. Best is trial 28 with value: 0.7771883289124668.\n"
     ]
    },
    {
     "name": "stdout",
     "output_type": "stream",
     "text": [
      "✅ بهترین پارامترها: {'rf_n_estimators': 170, 'rf_max_depth': 7, 'xgb_n_estimators': 130, 'xgb_max_depth': 5, 'lgb_n_estimators': 108, 'lgb_max_depth': 12, 'lgb_learning_rate': 0.05582511670322425, 'lr_C': 0.055269590001462116}\n"
     ]
    }
   ],
   "source": [
    "import optuna\n",
    "from sklearn.model_selection import train_test_split\n",
    "from imblearn.over_sampling import SMOTE\n",
    "from sklearn.metrics import f1_score, classification_report, confusion_matrix\n",
    "from sklearn.ensemble import RandomForestClassifier, StackingClassifier\n",
    "from sklearn.linear_model import LogisticRegression\n",
    "from xgboost import XGBClassifier\n",
    "from lightgbm import LGBMClassifier\n",
    "import warnings\n",
    "\n",
    "warnings.filterwarnings(\"ignore\")\n",
    "\n",
    "def objective(trial, X_train, X_test, y_train, y_test):\n",
    "    # Tune RandomForest parameters\n",
    "    rf_n = trial.suggest_int(\"rf_n_estimators\", 50, 200)\n",
    "    rf_depth = trial.suggest_int(\"rf_max_depth\", 3, 20)\n",
    "\n",
    "    # Tune XGBoost parameters\n",
    "    xgb_n = trial.suggest_int(\"xgb_n_estimators\", 50, 200)\n",
    "    xgb_depth = trial.suggest_int(\"xgb_max_depth\", 3, 10)\n",
    "\n",
    "    # Tune LightGBM parameters\n",
    "    lgb_n = trial.suggest_int(\"lgb_n_estimators\", 50, 200)\n",
    "    lgb_depth = trial.suggest_int(\"lgb_max_depth\", 3, 20)\n",
    "    lgb_lr = trial.suggest_float(\"lgb_learning_rate\", 0.01, 0.3, log=True)\n",
    "\n",
    "    # Tune LogisticRegression parameter\n",
    "    lr_C = trial.suggest_float(\"lr_C\", 1e-3, 10, log=True)\n",
    "\n",
    "    # Balance training data using SMOTE\n",
    "    sm = SMOTE(random_state=42)\n",
    "    X_res, y_res = sm.fit_resample(X_train, y_train)\n",
    "\n",
    "    # Define base learners with current trial parameters\n",
    "    estimators = [\n",
    "        ('rf', RandomForestClassifier(n_estimators=rf_n, max_depth=rf_depth, random_state=42)),\n",
    "        ('xgb', XGBClassifier(n_estimators=xgb_n, max_depth=xgb_depth, use_label_encoder=False, eval_metric='logloss', random_state=42)),\n",
    "        ('lgb', LGBMClassifier(n_estimators=lgb_n, max_depth=lgb_depth, learning_rate=lgb_lr, random_state=42))\n",
    "    ]\n",
    "\n",
    "    # Final estimator\n",
    "    final_estimator = LogisticRegression(C=lr_C, max_iter=500, random_state=42)\n",
    "\n",
    "    # Stacking ensemble\n",
    "    model = StackingClassifier(estimators=estimators, final_estimator=final_estimator, cv=3, n_jobs=-1)\n",
    "    model.fit(X_res, y_res)\n",
    "\n",
    "    # Predict and calculate F1 score on test set\n",
    "    y_pred = model.predict(X_test)\n",
    "    f1 = f1_score(y_test, y_pred)\n",
    "    return f1\n",
    "\n",
    "# Create and run study optimizing for maximum F1 score\n",
    "study = optuna.create_study(direction='maximize')\n",
    "study.optimize(lambda trial: objective(trial, X_train, X_test, y_train, y_test), n_trials=30)\n",
    "\n",
    "print(\"✅ Best Params:\", study.best_params)\n",
    "\n",
    "# Final training with best parameters on balanced train data\n",
    "best = study.best_params\n",
    "sm = SMOTE(random_state=42)\n",
    "X_resampled, y_resampled = sm.fit_resample(X_train, y_train)\n",
    "\n",
    "estimators = [\n",
    "    ('rf', RandomForestClassifier(n_estimators=best['rf_n_estimators'], max_depth=best['rf_max_depth'], random_state=42)),\n",
    "    ('xgb', XGBClassifier(n_estimators=best['xgb_n_estimators'], max_depth=best['xgb_max_depth'], use_label_encoder=False, eval_metric='logloss', random_state=42)),\n",
    "    ('lgb', LGBMClassifier(n_estimators=best['lgb_n_estimators'], max_depth=best['lgb_max_depth'], learning_rate=best['lgb_learning_rate'], random_state=42))\n",
    "]\n",
    "\n",
    "final_estimator = LogisticRegression(C=best['lr_C'], max_iter=500, random_state=42)\n",
    "\n",
    "stacking_clf = StackingClassifier(estimators=estimators, final_estimator=final_estimator, cv=5, n_jobs=-1)\n",
    "stacking_clf.fit(X_resampled, y_resampled)\n",
    "\n",
    "y_pred_final = stacking_clf.predict(X_test)\n"
   ]
  },
  {
   "cell_type": "code",
   "execution_count": null,
   "id": "270dd835",
   "metadata": {},
   "outputs": [],
   "source": [
    "# Convert predictions to DataFrame and save to CSV\n",
    "y_pred_final = pd.DataFrame(y_pred_final)  # Convert array to DataFrame\n",
    "y_pred_final.to_csv('y_pred_final.csv', index=False)  # Save without index\n"
   ]
  },
  {
   "cell_type": "code",
   "execution_count": null,
   "id": "22b55498",
   "metadata": {},
   "outputs": [
    {
     "data": {
      "text/plain": [
       "['model/stacking_model.pkl']"
      ]
     },
     "execution_count": 9,
     "metadata": {},
     "output_type": "execute_result"
    }
   ],
   "source": [
    "# Save the trained stacking model using joblib\n",
    "import joblib\n",
    "\n",
    "joblib.dump(stacking_clf, 'stacking_model.pkl')  # Save model to file\n"
   ]
  },
  {
   "cell_type": "code",
   "execution_count": null,
   "id": "795beffa",
   "metadata": {},
   "outputs": [],
   "source": []
  }
 ],
 "metadata": {
  "kernelspec": {
   "display_name": "Python 3",
   "language": "python",
   "name": "python3"
  },
  "language_info": {
   "codemirror_mode": {
    "name": "ipython",
    "version": 3
   },
   "file_extension": ".py",
   "mimetype": "text/x-python",
   "name": "python",
   "nbconvert_exporter": "python",
   "pygments_lexer": "ipython3",
   "version": "3.10.0"
  }
 },
 "nbformat": 4,
 "nbformat_minor": 5
}
