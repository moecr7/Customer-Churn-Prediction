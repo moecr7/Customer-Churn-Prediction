{
 "cells": [
  {
   "cell_type": "code",
   "execution_count": 1,
   "id": "b14b9c4d",
   "metadata": {},
   "outputs": [],
   "source": [
    "# Load saved train/test datasets from CSV files\n",
    "import pandas as pd\n",
    "\n",
    "X_train = pd.read_csv(\"X_train.csv\")  # Features train set\n",
    "X_test = pd.read_csv(\"X_test.csv\")    # Features test set\n",
    "\n",
    "# Load target variables and convert from DataFrame to Series with .squeeze()\n",
    "y_train = pd.read_csv(\"y_train.csv\").squeeze()  # Target train set\n",
    "y_test = pd.read_csv(\"y_test.csv\").squeeze()    # Target test set\n"
   ]
  },
  {
   "cell_type": "code",
   "execution_count": 5,
   "id": "3d90179f",
   "metadata": {},
   "outputs": [
    {
     "name": "stderr",
     "output_type": "stream",
     "text": [
      "[I 2025-06-07 12:47:03,398] A new study created in memory with name: no-name-f446382c-82d0-410f-abe4-f27e7661668f\n"
     ]
    },
    {
     "name": "stderr",
     "output_type": "stream",
     "text": [
      "[I 2025-06-07 12:47:04,420] Trial 0 finished with value: 0.7733333333333333 and parameters: {'rf_n_estimators': 106, 'rf_max_depth': 20, 'xgb_n_estimators': 160, 'xgb_max_depth': 7, 'lgb_n_estimators': 73, 'lgb_max_depth': 5, 'lgb_learning_rate': 0.012184186502221764, 'lr_C': 2.9154431891537547}. Best is trial 0 with value: 0.7733333333333333.\n",
      "[I 2025-06-07 12:47:05,654] Trial 1 finished with value: 0.7580645161290323 and parameters: {'rf_n_estimators': 140, 'rf_max_depth': 15, 'xgb_n_estimators': 53, 'xgb_max_depth': 10, 'lgb_n_estimators': 175, 'lgb_max_depth': 6, 'lgb_learning_rate': 0.01855998084649059, 'lr_C': 0.00541524411940254}. Best is trial 0 with value: 0.7733333333333333.\n",
      "[I 2025-06-07 12:47:06,518] Trial 2 finished with value: 0.7788079470198676 and parameters: {'rf_n_estimators': 95, 'rf_max_depth': 12, 'xgb_n_estimators': 115, 'xgb_max_depth': 5, 'lgb_n_estimators': 142, 'lgb_max_depth': 5, 'lgb_learning_rate': 0.027010527749605478, 'lr_C': 0.029204338471814112}. Best is trial 2 with value: 0.7788079470198676.\n",
      "[I 2025-06-07 12:47:07,520] Trial 3 finished with value: 0.7583444592790387 and parameters: {'rf_n_estimators': 118, 'rf_max_depth': 17, 'xgb_n_estimators': 80, 'xgb_max_depth': 7, 'lgb_n_estimators': 139, 'lgb_max_depth': 3, 'lgb_learning_rate': 0.07896186801026692, 'lr_C': 0.004809461967501573}. Best is trial 2 with value: 0.7788079470198676.\n",
      "[I 2025-06-07 12:47:08,201] Trial 4 finished with value: 0.7594594594594595 and parameters: {'rf_n_estimators': 59, 'rf_max_depth': 20, 'xgb_n_estimators': 195, 'xgb_max_depth': 9, 'lgb_n_estimators': 95, 'lgb_max_depth': 4, 'lgb_learning_rate': 0.1024932221692416, 'lr_C': 0.057624872164786026}. Best is trial 2 with value: 0.7788079470198676.\n",
      "[I 2025-06-07 12:47:08,798] Trial 5 finished with value: 0.7700534759358288 and parameters: {'rf_n_estimators': 68, 'rf_max_depth': 11, 'xgb_n_estimators': 55, 'xgb_max_depth': 10, 'lgb_n_estimators': 89, 'lgb_max_depth': 14, 'lgb_learning_rate': 0.028869220380495747, 'lr_C': 0.12030178871154672}. Best is trial 2 with value: 0.7788079470198676.\n",
      "[I 2025-06-07 12:47:09,750] Trial 6 finished with value: 0.7692307692307693 and parameters: {'rf_n_estimators': 132, 'rf_max_depth': 6, 'xgb_n_estimators': 196, 'xgb_max_depth': 9, 'lgb_n_estimators': 191, 'lgb_max_depth': 19, 'lgb_learning_rate': 0.0764136186923332, 'lr_C': 4.869640941520899}. Best is trial 2 with value: 0.7788079470198676.\n",
      "[I 2025-06-07 12:47:10,291] Trial 7 finished with value: 0.7793923381770145 and parameters: {'rf_n_estimators': 63, 'rf_max_depth': 6, 'xgb_n_estimators': 56, 'xgb_max_depth': 5, 'lgb_n_estimators': 108, 'lgb_max_depth': 7, 'lgb_learning_rate': 0.16755052359850303, 'lr_C': 0.026730883107816707}. Best is trial 7 with value: 0.7793923381770145.\n",
      "[I 2025-06-07 12:47:11,109] Trial 8 finished with value: 0.7584345479082322 and parameters: {'rf_n_estimators': 92, 'rf_max_depth': 12, 'xgb_n_estimators': 71, 'xgb_max_depth': 9, 'lgb_n_estimators': 61, 'lgb_max_depth': 20, 'lgb_learning_rate': 0.13826083091896751, 'lr_C': 0.0062353771356731605}. Best is trial 7 with value: 0.7793923381770145.\n",
      "[I 2025-06-07 12:47:11,694] Trial 9 finished with value: 0.7596281540504648 and parameters: {'rf_n_estimators': 50, 'rf_max_depth': 17, 'xgb_n_estimators': 156, 'xgb_max_depth': 8, 'lgb_n_estimators': 166, 'lgb_max_depth': 4, 'lgb_learning_rate': 0.0338452204120114, 'lr_C': 0.0029072088906598446}. Best is trial 7 with value: 0.7793923381770145.\n",
      "[I 2025-06-07 12:47:12,825] Trial 10 finished with value: 0.7669773635153129 and parameters: {'rf_n_estimators': 192, 'rf_max_depth': 3, 'xgb_n_estimators': 105, 'xgb_max_depth': 3, 'lgb_n_estimators': 113, 'lgb_max_depth': 9, 'lgb_learning_rate': 0.27176358251048754, 'lr_C': 0.5084983159628176}. Best is trial 7 with value: 0.7793923381770145.\n",
      "[I 2025-06-07 12:47:13,552] Trial 11 finished with value: 0.7657295850066934 and parameters: {'rf_n_estimators': 85, 'rf_max_depth': 8, 'xgb_n_estimators': 111, 'xgb_max_depth': 4, 'lgb_n_estimators': 138, 'lgb_max_depth': 9, 'lgb_learning_rate': 0.25776059149982933, 'lr_C': 0.03933042480402783}. Best is trial 7 with value: 0.7793923381770145.\n",
      "[I 2025-06-07 12:47:14,229] Trial 12 finished with value: 0.7749667110519307 and parameters: {'rf_n_estimators': 81, 'rf_max_depth': 9, 'xgb_n_estimators': 146, 'xgb_max_depth': 5, 'lgb_n_estimators': 119, 'lgb_max_depth': 8, 'lgb_learning_rate': 0.04123873836562137, 'lr_C': 0.02591698953182592}. Best is trial 7 with value: 0.7793923381770145.\n",
      "[I 2025-06-07 12:47:15,128] Trial 13 finished with value: 0.76657824933687 and parameters: {'rf_n_estimators': 155, 'rf_max_depth': 3, 'xgb_n_estimators': 91, 'xgb_max_depth': 5, 'lgb_n_estimators': 151, 'lgb_max_depth': 12, 'lgb_learning_rate': 0.1571875637327073, 'lr_C': 0.20899258584741567}. Best is trial 7 with value: 0.7793923381770145.\n",
      "[I 2025-06-07 12:47:16,054] Trial 14 finished with value: 0.7706666666666667 and parameters: {'rf_n_estimators': 104, 'rf_max_depth': 13, 'xgb_n_estimators': 125, 'xgb_max_depth': 5, 'lgb_n_estimators': 107, 'lgb_max_depth': 8, 'lgb_learning_rate': 0.02045494583929568, 'lr_C': 0.0010778430914849127}. Best is trial 7 with value: 0.7793923381770145.\n",
      "[I 2025-06-07 12:47:16,691] Trial 15 finished with value: 0.767379679144385 and parameters: {'rf_n_estimators': 75, 'rf_max_depth': 6, 'xgb_n_estimators': 136, 'xgb_max_depth': 6, 'lgb_n_estimators': 143, 'lgb_max_depth': 12, 'lgb_learning_rate': 0.06474773413486641, 'lr_C': 0.015738917172084765}. Best is trial 7 with value: 0.7793923381770145.\n",
      "[I 2025-06-07 12:47:17,475] Trial 16 finished with value: 0.7682119205298014 and parameters: {'rf_n_estimators': 95, 'rf_max_depth': 9, 'xgb_n_estimators': 175, 'xgb_max_depth': 3, 'lgb_n_estimators': 128, 'lgb_max_depth': 6, 'lgb_learning_rate': 0.010162527445626117, 'lr_C': 0.5108778946042237}. Best is trial 7 with value: 0.7793923381770145.\n",
      "[I 2025-06-07 12:47:18,676] Trial 17 finished with value: 0.7675962815405046 and parameters: {'rf_n_estimators': 166, 'rf_max_depth': 5, 'xgb_n_estimators': 99, 'xgb_max_depth': 6, 'lgb_n_estimators': 160, 'lgb_max_depth': 15, 'lgb_learning_rate': 0.04456261500538776, 'lr_C': 0.012701877952916371}. Best is trial 7 with value: 0.7793923381770145.\n",
      "[I 2025-06-07 12:47:19,855] Trial 18 finished with value: 0.7652645861601085 and parameters: {'rf_n_estimators': 115, 'rf_max_depth': 14, 'xgb_n_estimators': 120, 'xgb_max_depth': 4, 'lgb_n_estimators': 86, 'lgb_max_depth': 7, 'lgb_learning_rate': 0.17937121938753664, 'lr_C': 0.22811287575472036}. Best is trial 7 with value: 0.7793923381770145.\n",
      "[I 2025-06-07 12:47:20,537] Trial 19 finished with value: 0.7694369973190348 and parameters: {'rf_n_estimators': 59, 'rf_max_depth': 10, 'xgb_n_estimators': 77, 'xgb_max_depth': 4, 'lgb_n_estimators': 185, 'lgb_max_depth': 10, 'lgb_learning_rate': 0.025413155064394042, 'lr_C': 0.9240197991327711}. Best is trial 7 with value: 0.7793923381770145.\n",
      "[I 2025-06-07 12:47:21,079] Trial 20 finished with value: 0.7752956636005256 and parameters: {'rf_n_estimators': 74, 'rf_max_depth': 7, 'xgb_n_estimators': 60, 'xgb_max_depth': 6, 'lgb_n_estimators': 56, 'lgb_max_depth': 3, 'lgb_learning_rate': 0.01630232544980738, 'lr_C': 0.08268233056202173}. Best is trial 7 with value: 0.7793923381770145.\n",
      "[I 2025-06-07 12:47:21,613] Trial 21 finished with value: 0.7774869109947644 and parameters: {'rf_n_estimators': 70, 'rf_max_depth': 7, 'xgb_n_estimators': 62, 'xgb_max_depth': 6, 'lgb_n_estimators': 54, 'lgb_max_depth': 3, 'lgb_learning_rate': 0.017766995055503453, 'lr_C': 0.06990503658758782}. Best is trial 7 with value: 0.7793923381770145.\n",
      "[I 2025-06-07 12:47:22,074] Trial 22 finished with value: 0.7698412698412699 and parameters: {'rf_n_estimators': 52, 'rf_max_depth': 5, 'xgb_n_estimators': 87, 'xgb_max_depth': 5, 'lgb_n_estimators': 72, 'lgb_max_depth': 5, 'lgb_learning_rate': 0.04789143650676063, 'lr_C': 0.020121827215292362}. Best is trial 7 with value: 0.7793923381770145.\n",
      "[I 2025-06-07 12:47:22,766] Trial 23 finished with value: 0.7675962815405046 and parameters: {'rf_n_estimators': 67, 'rf_max_depth': 11, 'xgb_n_estimators': 65, 'xgb_max_depth': 7, 'lgb_n_estimators': 103, 'lgb_max_depth': 6, 'lgb_learning_rate': 0.013487557924576713, 'lr_C': 0.04638877306779845}. Best is trial 7 with value: 0.7793923381770145.\n",
      "[I 2025-06-07 12:47:23,485] Trial 24 finished with value: 0.7730870712401056 and parameters: {'rf_n_estimators': 96, 'rf_max_depth': 8, 'xgb_n_estimators': 70, 'xgb_max_depth': 6, 'lgb_n_estimators': 127, 'lgb_max_depth': 3, 'lgb_learning_rate': 0.024171672506069098, 'lr_C': 0.14198465921214037}. Best is trial 7 with value: 0.7793923381770145.\n",
      "[I 2025-06-07 12:47:24,078] Trial 25 finished with value: 0.7735099337748345 and parameters: {'rf_n_estimators': 80, 'rf_max_depth': 4, 'xgb_n_estimators': 94, 'xgb_max_depth': 4, 'lgb_n_estimators': 73, 'lgb_max_depth': 5, 'lgb_learning_rate': 0.03221550873083905, 'lr_C': 0.011618857866601943}. Best is trial 7 with value: 0.7793923381770145.\n",
      "[I 2025-06-07 12:47:24,587] Trial 26 finished with value: 0.7777777777777778 and parameters: {'rf_n_estimators': 65, 'rf_max_depth': 7, 'xgb_n_estimators': 115, 'xgb_max_depth': 5, 'lgb_n_estimators': 52, 'lgb_max_depth': 7, 'lgb_learning_rate': 0.11068224068131141, 'lr_C': 0.0016773258404583274}. Best is trial 7 with value: 0.7793923381770145.\n",
      "[I 2025-06-07 12:47:25,482] Trial 27 finished with value: 0.7686170212765957 and parameters: {'rf_n_estimators': 106, 'rf_max_depth': 10, 'xgb_n_estimators': 119, 'xgb_max_depth': 5, 'lgb_n_estimators': 200, 'lgb_max_depth': 10, 'lgb_learning_rate': 0.12733978258644763, 'lr_C': 0.0010450155114043588}. Best is trial 7 with value: 0.7793923381770145.\n",
      "[I 2025-06-07 12:47:26,328] Trial 28 finished with value: 0.7657295850066934 and parameters: {'rf_n_estimators': 88, 'rf_max_depth': 15, 'xgb_n_estimators': 130, 'xgb_max_depth': 3, 'lgb_n_estimators': 158, 'lgb_max_depth': 7, 'lgb_learning_rate': 0.20054478874097637, 'lr_C': 0.0022388802762561494}. Best is trial 7 with value: 0.7793923381770145.\n",
      "[I 2025-06-07 12:47:26,927] Trial 29 finished with value: 0.767379679144385 and parameters: {'rf_n_estimators': 61, 'rf_max_depth': 13, 'xgb_n_estimators': 140, 'xgb_max_depth': 4, 'lgb_n_estimators': 66, 'lgb_max_depth': 14, 'lgb_learning_rate': 0.1056156522786684, 'lr_C': 0.002061242209089413}. Best is trial 7 with value: 0.7793923381770145.\n"
     ]
    },
    {
     "name": "stdout",
     "output_type": "stream",
     "text": [
      "✅ Best Params: {'rf_n_estimators': 63, 'rf_max_depth': 6, 'xgb_n_estimators': 56, 'xgb_max_depth': 5, 'lgb_n_estimators': 108, 'lgb_max_depth': 7, 'lgb_learning_rate': 0.16755052359850303, 'lr_C': 0.026730883107816707}\n"
     ]
    }
   ],
   "source": [
    "import os\n",
    "import random\n",
    "import numpy as np\n",
    "import optuna\n",
    "from optuna.samplers import TPESampler\n",
    "from sklearn.model_selection import train_test_split\n",
    "from imblearn.over_sampling import SMOTE\n",
    "from sklearn.metrics import f1_score\n",
    "from sklearn.ensemble import RandomForestClassifier, StackingClassifier\n",
    "from sklearn.linear_model import LogisticRegression\n",
    "from xgboost import XGBClassifier\n",
    "from lightgbm import LGBMClassifier\n",
    "import warnings\n",
    "\n",
    "# Set random seed for reproducibility\n",
    "SEED = 42\n",
    "random.seed(SEED)\n",
    "np.random.seed(SEED)\n",
    "os.environ[\"PYTHONHASHSEED\"] = str(SEED)\n",
    "\n",
    "warnings.filterwarnings(\"ignore\")\n",
    "\n",
    "# Define the objective function for Optuna\n",
    "def objective(trial, X_train, X_test, y_train, y_test):\n",
    "    # RandomForest parameters\n",
    "    rf_n = trial.suggest_int(\"rf_n_estimators\", 50, 200)\n",
    "    rf_depth = trial.suggest_int(\"rf_max_depth\", 3, 20)\n",
    "\n",
    "    # XGBoost parameters\n",
    "    xgb_n = trial.suggest_int(\"xgb_n_estimators\", 50, 200)\n",
    "    xgb_depth = trial.suggest_int(\"xgb_max_depth\", 3, 10)\n",
    "\n",
    "    # LightGBM parameters\n",
    "    lgb_n = trial.suggest_int(\"lgb_n_estimators\", 50, 200)\n",
    "    lgb_depth = trial.suggest_int(\"lgb_max_depth\", 3, 20)\n",
    "    lgb_lr = trial.suggest_float(\"lgb_learning_rate\", 0.01, 0.3, log=True)\n",
    "\n",
    "    # LogisticRegression parameter\n",
    "    lr_C = trial.suggest_float(\"lr_C\", 1e-3, 10, log=True)\n",
    "\n",
    "    # Apply SMOTE to balance training data\n",
    "    sm = SMOTE(random_state=SEED)\n",
    "    X_res, y_res = sm.fit_resample(X_train, y_train)\n",
    "\n",
    "    # Define base learners\n",
    "    estimators = [\n",
    "        ('rf', RandomForestClassifier(n_estimators=rf_n, max_depth=rf_depth, random_state=SEED)),\n",
    "        ('xgb', XGBClassifier(n_estimators=xgb_n, max_depth=xgb_depth, use_label_encoder=False, eval_metric='logloss', random_state=SEED)),\n",
    "        ('lgb', LGBMClassifier(n_estimators=lgb_n, max_depth=lgb_depth, learning_rate=lgb_lr, random_state=SEED))\n",
    "    ]\n",
    "\n",
    "    final_estimator = LogisticRegression(C=lr_C, max_iter=500, random_state=SEED)\n",
    "\n",
    "    model = StackingClassifier(estimators=estimators, final_estimator=final_estimator, cv=3, n_jobs=-1)\n",
    "    model.fit(X_res, y_res)\n",
    "\n",
    "    y_pred = model.predict(X_test)\n",
    "    f1 = f1_score(y_test, y_pred)\n",
    "    return f1\n",
    "\n",
    "# Load your train-test split data beforehand:\n",
    "# X_train, X_test, y_train, y_test\n",
    "\n",
    "# Run Optuna with fixed sampler seed\n",
    "study = optuna.create_study(direction='maximize', sampler=TPESampler(seed=SEED))\n",
    "study.optimize(lambda trial: objective(trial, X_train, X_test, y_train, y_test), n_trials=30)\n",
    "\n",
    "print(\"✅ Best Params:\", study.best_params)\n",
    "\n",
    "# Final model training using best params\n",
    "best = study.best_params\n",
    "sm = SMOTE(random_state=SEED)\n",
    "X_resampled, y_resampled = sm.fit_resample(X_train, y_train)\n",
    "\n",
    "estimators = [\n",
    "    ('rf', RandomForestClassifier(n_estimators=best['rf_n_estimators'], max_depth=best['rf_max_depth'], random_state=SEED)),\n",
    "    ('xgb', XGBClassifier(n_estimators=best['xgb_n_estimators'], max_depth=best['xgb_max_depth'], use_label_encoder=False, eval_metric='logloss', random_state=SEED)),\n",
    "    ('lgb', LGBMClassifier(n_estimators=best['lgb_n_estimators'], max_depth=best['lgb_max_depth'], learning_rate=best['lgb_learning_rate'], random_state=SEED))\n",
    "]\n",
    "\n",
    "final_estimator = LogisticRegression(C=best['lr_C'], max_iter=500, random_state=SEED)\n",
    "\n",
    "stacking_clf = StackingClassifier(estimators=estimators, final_estimator=final_estimator, cv=5, n_jobs=-1)\n",
    "stacking_clf.fit(X_resampled, y_resampled)\n",
    "\n",
    "y_pred_final = stacking_clf.predict(X_test)\n"
   ]
  },
  {
   "cell_type": "code",
   "execution_count": 6,
   "id": "270dd835",
   "metadata": {},
   "outputs": [],
   "source": [
    "# Convert predictions to DataFrame and save to CSV\n",
    "y_pred_final = pd.DataFrame(y_pred_final)  # Convert array to DataFrame\n",
    "y_pred_final.to_csv('y_pred_final.csv', index=False)  # Save without index\n"
   ]
  },
  {
   "cell_type": "code",
   "execution_count": 7,
   "id": "22b55498",
   "metadata": {},
   "outputs": [
    {
     "data": {
      "text/plain": [
       "['stacking_model.pkl']"
      ]
     },
     "execution_count": 7,
     "metadata": {},
     "output_type": "execute_result"
    }
   ],
   "source": [
    "# Save the trained stacking model using joblib\n",
    "import joblib\n",
    "\n",
    "joblib.dump(stacking_clf, 'stacking_model.pkl')  # Save model to file\n"
   ]
  },
  {
   "cell_type": "code",
   "execution_count": null,
   "id": "795beffa",
   "metadata": {},
   "outputs": [],
   "source": []
  }
 ],
 "metadata": {
  "kernelspec": {
   "display_name": "Python 3",
   "language": "python",
   "name": "python3"
  },
  "language_info": {
   "codemirror_mode": {
    "name": "ipython",
    "version": 3
   },
   "file_extension": ".py",
   "mimetype": "text/x-python",
   "name": "python",
   "nbconvert_exporter": "python",
   "pygments_lexer": "ipython3",
   "version": "3.10.0"
  }
 },
 "nbformat": 4,
 "nbformat_minor": 5
}
